{
  "nbformat": 4,
  "nbformat_minor": 0,
  "metadata": {
    "colab": {
      "provenance": [],
      "authorship_tag": "ABX9TyOL1oC19dbTghvUoIK4FzJn",
      "include_colab_link": true
    },
    "kernelspec": {
      "name": "python3",
      "display_name": "Python 3"
    },
    "language_info": {
      "name": "python"
    }
  },
  "cells": [
    {
      "cell_type": "markdown",
      "metadata": {
        "id": "view-in-github",
        "colab_type": "text"
      },
      "source": [
        "<a href=\"https://colab.research.google.com/github/stellamr10/Hra/blob/main/hra.ipynb\" target=\"_parent\"><img src=\"https://colab.research.google.com/assets/colab-badge.svg\" alt=\"Open In Colab\"/></a>"
      ]
    },
    {
      "cell_type": "code",
      "execution_count": null,
      "metadata": {
        "id": "l3_tXXe-e4br"
      },
      "outputs": [],
      "source": []
    },
    {
      "cell_type": "markdown",
      "source": [
        "# Tvorba hry\n",
        "Príbeh s dvoma možnosťami na konci 2. Po výberu sa vytvorí dalšia časť príbehu. Vždy len jedna možnosť je správna.\n"
      ],
      "metadata": {
        "id": "_95plK4mf3Q8"
      }
    },
    {
      "cell_type": "code",
      "source": [
        "# prompt: Napíš mi príbeh a daj mi na konci 2 možnosti na výber. Po výberu vytvor ďalšiu časť príbehu. Vždy je len jedna možnosť správna.\n",
        "\n",
        "def story_part_1():\n",
        "    print(\"Na kraji temného lesa stála stará, opustená chalúpka. V jejnútri žil osamelý čarodejník.\")\n",
        "    print(\"Jedného dňa, keď zbieral bylinky, našiel pod starým dubom truhlicu.\")\n",
        "    print(\"Bola ťažká a zamknutá zvláštnym zámkom. Čarodejník vedel, že na jej otvorenie potrebuje kľúč.\")\n",
        "    print(\"Na výber máš dve možnosti:\")\n",
        "    print(\"1. Hľadať kľúč v tráve okolo dubu.\")\n",
        "    print(\"2. Ísť do chalúpky a preštudovať staré knihy o zámkoch a kľúčoch.\")\n",
        "    choice = input(\"Zadaj číslo tvojej voľby (1 alebo 2): \")\n",
        "    return choice\n",
        "\n",
        "def story_part_2_option_1():\n",
        "    print(\"\\nRozhodol si sa hľadať kľúč v tráve.\")\n",
        "    print(\"Dlho si prehľadával hustú trávu, ale našiel si len zopár starých mincí a hrdzavý klinec.\")\n",
        "    print(\"Slnko zapadalo a nádej na nájdenie kľúča sa pomaly vytrácala.\")\n",
        "    print(\"Táto cesta neviedla k úspechu.\")\n",
        "    return \"end_bad\"\n",
        "\n",
        "def story_part_2_option_2():\n",
        "    print(\"\\nRozhodol si sa ísť do chalúpky a preštudovať staré knihy.\")\n",
        "    print(\"Medzi prachom pokrytými zväzkami si našiel knihu s názvom 'Staroveké zámky a ich tajomstvá'.\")\n",
        "    print(\"Po hodinách čítania si objavil informáciu o zámkoch, ako je ten na truhlici.\")\n",
        "    print(\"Zistil si, že na jeho otvorenie nepotrebuješ fyzický kľúč, ale stačí vysloviť správne zaklínadlo.\")\n",
        "    print(\"Na výber máš teraz dve možnosti:\")\n",
        "    print(\"1. Vrátiť sa k dubu a vyskúšať prvé zaklínadlo, ktoré si si zapamätal.\")\n",
        "    print(\"2. Hľadať v knihe ďalej, aby si našiel presné zaklínadlo pre tento typ zámku.\")\n",
        "    choice = input(\"Zadaj číslo tvojej voľby (1 alebo 2): \")\n",
        "    return choice\n",
        "\n",
        "def story_part_3_option_1():\n",
        "    print(\"\\nVrátil si sa k dubu a vyskúšal si prvé zaklínadlo.\")\n",
        "    print(\"Ozvala sa slabá ozvena, ale zámok zostal pevne zatvorený.\")\n",
        "    print(\"Zaklínadlo nebolo správne a truhlica zostáva zamknutá.\")\n",
        "    return \"end_bad\"\n",
        "\n",
        "\n",
        "def story_part_3_option_2():\n",
        "    print(\"\\nPokračoval si v hľadaní v knihe.\")\n",
        "    print(\"Po chvíli si našiel presné zaklínadlo: 'Abracadabra OtvorSa!'\")\n",
        "    print(\"Vrátil si sa k dubu a vyslovil zaklínadlo jasným hlasom.\")\n",
        "    print(\"So zaškrípaním sa zámok otvoril!\")\n",
        "    print(\"V truhlici si našiel trblietavý drahokam, ktorý mal magickú moc.\")\n",
        "    print(\"Úspešne si rozlúštil tajomstvo truhlice a získal odmenu.\")\n",
        "    return \"end_good\"\n",
        "\n",
        "\n",
        "# Spustenie príbehu\n",
        "current_state = \"part_1\"\n",
        "\n",
        "while True:\n",
        "    if current_state == \"part_1\":\n",
        "        user_choice = story_part_1()\n",
        "        if user_choice == \"1\":\n",
        "            current_state = story_part_2_option_1()\n",
        "        elif user_choice == \"2\":\n",
        "            current_state = story_part_2_option_2()\n",
        "        else:\n",
        "            print(\"Neplatná voľba, skús znova.\")\n",
        "\n",
        "    elif current_state == \"part_2_option_2\":\n",
        "        user_choice = story_part_2_option_2() # Znovu sa zavola, aby sa zobrazili moznosti\n",
        "        if user_choice == \"1\":\n",
        "            current_state = story_part_3_option_1()\n",
        "        elif user_choice == \"2\":\n",
        "            current_state = story_part_3_option_2()\n",
        "        else:\n",
        "            print(\"Neplatná voľba, skús znova.\")\n",
        "\n",
        "    elif current_state == \"end_bad\":\n",
        "        print(\"\\nKoniec príbehu. Tentokrát to nevyšlo.\")\n",
        "        break\n",
        "\n",
        "    elif current_state == \"end_good\":\n",
        "        print(\"\\nGratulujem! Úspešne si dokončil príbeh!\")\n",
        "        break\n"
      ],
      "metadata": {
        "colab": {
          "base_uri": "https://localhost:8080/"
        },
        "id": "8y4AVbDehA-W",
        "outputId": "4269044e-570c-4589-932d-4ee702c4915b"
      },
      "execution_count": 1,
      "outputs": [
        {
          "output_type": "stream",
          "name": "stdout",
          "text": [
            "Na kraji temného lesa stála stará, opustená chalúpka. V jejnútri žil osamelý čarodejník.\n",
            "Jedného dňa, keď zbieral bylinky, našiel pod starým dubom truhlicu.\n",
            "Bola ťažká a zamknutá zvláštnym zámkom. Čarodejník vedel, že na jej otvorenie potrebuje kľúč.\n",
            "Na výber máš dve možnosti:\n",
            "1. Hľadať kľúč v tráve okolo dubu.\n",
            "2. Ísť do chalúpky a preštudovať staré knihy o zámkoch a kľúčoch.\n",
            "Zadaj číslo tvojej voľby (1 alebo 2): 1\n",
            "\n",
            "Rozhodol si sa hľadať kľúč v tráve.\n",
            "Dlho si prehľadával hustú trávu, ale našiel si len zopár starých mincí a hrdzavý klinec.\n",
            "Slnko zapadalo a nádej na nájdenie kľúča sa pomaly vytrácala.\n",
            "Táto cesta neviedla k úspechu.\n",
            "\n",
            "Koniec príbehu. Tentokrát to nevyšlo.\n"
          ]
        }
      ]
    }
  ]
}